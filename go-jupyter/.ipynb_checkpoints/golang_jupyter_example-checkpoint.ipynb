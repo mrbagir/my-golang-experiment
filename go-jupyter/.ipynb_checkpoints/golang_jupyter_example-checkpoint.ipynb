{
 "cells": [
  {
   "cell_type": "markdown",
   "id": "5daa4270",
   "metadata": {},
   "source": [
    "# 🐹 Golang in Jupyter Notebook\n",
    "Contoh penggunaan dasar bahasa Go di Jupyter Notebook menggunakan kernel `gophernotes`."
   ]
  },
  {
   "cell_type": "code",
   "execution_count": null,
   "id": "4ca2098c",
   "metadata": {},
   "outputs": [],
   "source": [
    "// Menampilkan output seperti fmt.Println\n",
    "import \"fmt\"\n",
    "\n",
    "fmt.Println(\"Hello, Jupyter with Go!\")"
   ]
  },
  {
   "cell_type": "code",
   "execution_count": null,
   "id": "ec39d635",
   "metadata": {},
   "outputs": [],
   "source": [
    "// Variabel dan tipe data\n",
    "var name string = \"Baqir\"\n",
    "age := 21\n",
    "fmt.Printf(\"Halo, nama saya %s dan umur saya %d\\n\", name, age)"
   ]
  },
  {
   "cell_type": "code",
   "execution_count": null,
   "id": "fbd5796a",
   "metadata": {},
   "outputs": [],
   "source": [
    "// Fungsi sederhana\n",
    "func tambah(a int, b int) int {\n",
    "    return a + b\n",
    "}\n",
    "\n",
    "fmt.Println(\"Hasil tambah 3 + 4 =\", tambah(3, 4))"
   ]
  },
  {
   "cell_type": "code",
   "execution_count": null,
   "id": "cfd11708",
   "metadata": {},
   "outputs": [],
   "source": [
    "// Perulangan\n",
    "for i := 1; i <= 5; i++ {\n",
    "    fmt.Println(\"Angka ke\", i)\n",
    "}"
   ]
  },
  {
   "cell_type": "code",
   "execution_count": null,
   "id": "0ca3f1f2",
   "metadata": {},
   "outputs": [],
   "source": [
    "// Array dan slice\n",
    "angka := []int{1, 2, 3, 4, 5}\n",
    "for _, v := range angka {\n",
    "    fmt.Println(\"Nilai:\", v)\n",
    "}"
   ]
  },
  {
   "cell_type": "code",
   "execution_count": null,
   "id": "9dd80526",
   "metadata": {},
   "outputs": [],
   "source": [
    "// Map (dictionary)\n",
    "mahasiswa := map[string]int{\n",
    "    \"Budi\":  90,\n",
    "    \"Ani\":   85,\n",
    "    \"Cici\":  78,\n",
    "}\n",
    "for nama, nilai := range mahasiswa {\n",
    "    fmt.Printf(\"%s mendapat nilai %d\\n\", nama, nilai)\n",
    "}"
   ]
  },
  {
   "cell_type": "code",
   "execution_count": null,
   "id": "96283767",
   "metadata": {},
   "outputs": [],
   "source": [
    "// Menggunakan package math\n",
    "import \"math\"\n",
    "\n",
    "angka := 25.0\n",
    "akar := math.Sqrt(angka)\n",
    "fmt.Printf(\"Akar dari %.0f adalah %.2f\\n\", angka, akar)"
   ]
  }
 ],
 "metadata": {
  "kernelspec": {
   "display_name": "Go (gophernotes)",
   "language": "go",
   "name": "gophernotes"
  },
  "language_info": {
   "codemirror_mode": "",
   "file_extension": ".go",
   "mimetype": "",
   "name": "go",
   "nbconvert_exporter": "",
   "pygments_lexer": "",
   "version": "go1.24.1"
  }
 },
 "nbformat": 4,
 "nbformat_minor": 5
}
